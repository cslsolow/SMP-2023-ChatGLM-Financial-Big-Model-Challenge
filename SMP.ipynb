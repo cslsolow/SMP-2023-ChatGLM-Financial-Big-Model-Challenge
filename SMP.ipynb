{
 "cells": [
  {
   "cell_type": "code",
   "execution_count": 1,
   "id": "18e49d3b-adfc-4e0b-96d4-4008bfaae7c9",
   "metadata": {
    "tags": []
   },
   "outputs": [],
   "source": [
    "import json\n",
    "import glob\n",
    "import pandas as pd\n",
    "import numpy as np\n",
    "from tqdm import tqdm\n",
    "\n",
    "from langchain.embeddings.huggingface import HuggingFaceEmbeddings\n",
    "from langchain.text_splitter import CharacterTextSplitter, RecursiveCharacterTextSplitter\n",
    "from langchain.schema import Document\n",
    "from langchain.vectorstores import FAISS\n",
    "from langchain import PromptTemplate, LLMChain\n",
    "from langchain.llms.base import LLM\n",
    "from langchain.chains.summarize import load_summarize_chain\n",
    "from langchain.chains.mapreduce import MapReduceChain\n",
    "\n",
    "from transformers import AutoTokenizer, AutoModel, AutoConfig\n",
    "\n",
    "from sklearn.metrics.pairwise import cosine_similarity"
   ]
  },
  {
   "cell_type": "code",
   "execution_count": 6,
   "id": "592fe8e5-1da0-4332-934f-9b7fd9f23c6c",
   "metadata": {
    "tags": []
   },
   "outputs": [
    {
     "name": "stderr",
     "output_type": "stream",
     "text": [
      "No sentence-transformers model found with name /root/.cache/torch/sentence_transformers/GanymedeNil_text2vec-large-chinese. Creating a new one with MEAN pooling.\n"
     ]
    }
   ],
   "source": [
    "embeddings = HuggingFaceEmbeddings(\n",
    "            model_name=\"GanymedeNil/text2vec-large-chinese\",\n",
    "            model_kwargs={'device': 'cuda'})"
   ]
  },
  {
   "cell_type": "code",
   "execution_count": 7,
   "id": "f92c79f4-f202-4ed6-929b-dbd62f2509ec",
   "metadata": {
    "tags": []
   },
   "outputs": [],
   "source": [
    "files_names = glob.glob('/root/autodl-tmp/CSV/*.csv')"
   ]
  },
  {
   "cell_type": "code",
   "execution_count": 8,
   "id": "0993e0cb-9149-47c9-96d9-948c640d5827",
   "metadata": {
    "tags": []
   },
   "outputs": [],
   "source": [
    "text_splitter = RecursiveCharacterTextSplitter(\n",
    "    # Set a really small chunk size, just to show.\n",
    "    chunk_size = 2048,\n",
    "    chunk_overlap  = 200,\n",
    "    length_function = len,\n",
    "    is_separator_regex = False,\n",
    ")"
   ]
  },
  {
   "cell_type": "code",
   "execution_count": 9,
   "id": "2667cc55-4e2d-4e39-a04b-f9d3a1c3bc76",
   "metadata": {
    "tags": []
   },
   "outputs": [
    {
     "name": "stdout",
     "output_type": "stream",
     "text": [
      "4623\n",
      "/root/autodl-tmp/CSV/2020-03-19__深圳高速公路集团股份有限公司__600548__深高速__2019年__年度报告.csv\n"
     ]
    }
   ],
   "source": [
    "for i in range(len(files_names)):\n",
    "    if '深圳高速公路' in files_names[i] and '2019' in files_names[i]:\n",
    "        print(i)\n",
    "        print(files_names[i])"
   ]
  },
  {
   "cell_type": "code",
   "execution_count": 10,
   "id": "a7ed125d-a61d-4a34-9a12-dbf36a57c5e0",
   "metadata": {
    "tags": []
   },
   "outputs": [],
   "source": [
    "df_ = pd.read_csv(files_names[4623])"
   ]
  },
  {
   "cell_type": "code",
   "execution_count": null,
   "id": "26ee52d9-2bc3-4a15-84a8-e67dc47333b2",
   "metadata": {
    "tags": []
   },
   "outputs": [],
   "source": [
    "# keys = df_['chapter'].unique()\n",
    "# similarity = []\n",
    "# vector_b = np.array(embeddings.embed_query(x))\n",
    "# for i in keys:\n",
    "#     vector_a = np.array(embeddings.embed_query(i))\n",
    "#     s = cosine_similarity(vector_a.reshape(1, -1), vector_b.reshape(1, -1))[0][0]\n",
    "#     similarity.append(s)\n",
    "# max_value = max(similarity)\n",
    "# max_index = similarity.index(max_value)\n",
    "# key = keys[max_index]\n",
    "# content = [''.join(df_.loc[df_.chapter == key, 'inside'])]"
   ]
  },
  {
   "cell_type": "code",
   "execution_count": null,
   "id": "2d8e402c-0360-432c-a160-26b6a72a85d1",
   "metadata": {
    "tags": []
   },
   "outputs": [],
   "source": [
    "# [''.join(df_.loc[df_.chapter == keys[-3], 'inside'])]"
   ]
  },
  {
   "cell_type": "code",
   "execution_count": null,
   "id": "bbad3243-7e9e-4d1f-bab9-6d582ecb4d40",
   "metadata": {
    "tags": []
   },
   "outputs": [],
   "source": [
    "# similarity"
   ]
  },
  {
   "cell_type": "code",
   "execution_count": null,
   "id": "0e932ba6-85e5-4887-9950-0228e6b9bb7c",
   "metadata": {
    "tags": []
   },
   "outputs": [],
   "source": [
    "# vector_a_1 = np.array(embeddings.embed_query(pd.read_csv(files_names[4623]).loc[0, 'chapter']))\n",
    "# vector_a_2 = np.array(embeddings.embed_query(pd.read_csv(files_names[4623]).loc[1, 'chapter']))\n",
    "# vector_a_3 = np.array(embeddings.embed_query(pd.read_csv(files_names[4623]).loc[5, 'chapter']))\n",
    "\n",
    "# vector_a_4 = np.array(embeddings.embed_query(pd.read_csv(files_names[4623]).loc[8, 'chapter']))\n",
    "\n",
    "# vector_a_13 = np.array(embeddings.embed_query(pd.read_csv(files_names[4623]).loc[59, 'chapter']))\n",
    "# vector_b = np.array(embeddings.embed_query(x))"
   ]
  },
  {
   "cell_type": "code",
   "execution_count": null,
   "id": "383949c7-6aec-4df1-83eb-8f10575c5a46",
   "metadata": {
    "tags": []
   },
   "outputs": [],
   "source": [
    "# cosine_sim_sklearn_1 = cosine_similarity(vector_a_1.reshape(1, -1), vector_b.reshape(1, -1))[0][0]\n",
    "# cosine_sim_sklearn_2 = cosine_similarity(vector_a_2.reshape(1, -1), vector_b.reshape(1, -1))[0][0]\n",
    "# cosine_sim_sklearn_3 = cosine_similarity(vector_a_3.reshape(1, -1), vector_b.reshape(1, -1))[0][0]\n",
    "# cosine_sim_sklearn_4 = cosine_similarity(vector_a_4.reshape(1, -1), vector_b.reshape(1, -1))[0][0]\n",
    "\n",
    "# cosine_sim_sklearn_13 = cosine_similarity(vector_a_13.reshape(1, -1), vector_b.reshape(1, -1))[0][0]\n",
    "\n",
    "# print(cosine_sim_sklearn_1)\n",
    "# print(cosine_sim_sklearn_2)\n",
    "# print(cosine_sim_sklearn_3)\n",
    "# print(cosine_sim_sklearn_4)\n",
    "# print(cosine_sim_sklearn_13)"
   ]
  },
  {
   "cell_type": "code",
   "execution_count": 68,
   "id": "43e2ebdd-7214-4168-bbb1-f6486ab42c89",
   "metadata": {
    "tags": []
   },
   "outputs": [],
   "source": [
    "test = []\n",
    "with open('/root/autodl-tmp/test_questions.json', 'r', encoding='utf-8') as file:\n",
    "    for line in file.readlines():\n",
    "        dic = json.loads(line)\n",
    "        test.append(dic)"
   ]
  },
  {
   "cell_type": "code",
   "execution_count": null,
   "id": "5375670c-9bc0-42f0-b73c-f689a14eb657",
   "metadata": {
    "tags": []
   },
   "outputs": [],
   "source": [
    "# for i in test:\n",
    "#     if '深圳高速公路' in i['question']:\n",
    "#         print(i)"
   ]
  },
  {
   "cell_type": "code",
   "execution_count": null,
   "id": "f7224763-7b20-4464-8aaa-e36d7f742d7d",
   "metadata": {
    "tags": []
   },
   "outputs": [],
   "source": [
    "x = test[4732]['question'].replace('2019', '').replace('深圳高速公路集团股份有限公司', '')\n",
    "x"
   ]
  },
  {
   "cell_type": "code",
   "execution_count": null,
   "id": "1669535b-659b-4e69-bd97-f3a93158afd2",
   "metadata": {
    "tags": []
   },
   "outputs": [],
   "source": [
    "# top_k = 3\n",
    "# query = test[4732]['question']\n",
    "# # context = vector_store.similarity_search(query)\n",
    "# context = vector_store.similarity_search_with_score(query, k=top_k)"
   ]
  },
  {
   "cell_type": "code",
   "execution_count": 12,
   "id": "6dd5d615-94e7-46b3-9709-d52bbabe8da7",
   "metadata": {
    "tags": []
   },
   "outputs": [],
   "source": [
    "prompt_template = \"\"\"根据上下文回答问题，\n",
    "            上下文:{context}\n",
    "            问题:{query}\"\"\"\n",
    "prompt = PromptTemplate.from_template(prompt_template)\n",
    "# prompt = prompt.format(context = context[0][0], query = query)"
   ]
  },
  {
   "cell_type": "code",
   "execution_count": 13,
   "id": "e21f63e0-12bf-49d0-bc66-4c9bbead63da",
   "metadata": {
    "tags": []
   },
   "outputs": [
    {
     "name": "stderr",
     "output_type": "stream",
     "text": [
      "You are using a model of type chatglm to instantiate a model of type . This is not supported for all configurations of models and can yield errors.\n"
     ]
    },
    {
     "data": {
      "application/vnd.jupyter.widget-view+json": {
       "model_id": "f1e8f591dbb6453a9fd7f71af15496f0",
       "version_major": 2,
       "version_minor": 0
      },
      "text/plain": [
       "Loading checkpoint shards:   0%|          | 0/7 [00:00<?, ?it/s]"
      ]
     },
     "metadata": {},
     "output_type": "display_data"
    }
   ],
   "source": [
    "class GLM(LLM):\n",
    "    max_token: int = 2500\n",
    "    temperature: float = 0.8\n",
    "    top_p = 0.9\n",
    "    tokenizer: object = None\n",
    "    model: object = None\n",
    "    history_len: int = 1024\n",
    "    \n",
    "    def __init__(self):\n",
    "        super().__init__()\n",
    "        \n",
    "    @property\n",
    "    def _llm_type(self) -> str:\n",
    "        return \"GLM\"\n",
    "            \n",
    "    def load_model(self, llm_device=\"gpu\",model_name_or_path=None):\n",
    "        model_config = AutoConfig.from_pretrained(model_name_or_path, trust_remote_code=True)\n",
    "        self.tokenizer = AutoTokenizer.from_pretrained(model_name_or_path,trust_remote_code=True)\n",
    "        self.model = AutoModel.from_pretrained(model_name_or_path, config=model_config, trust_remote_code=True).half().cuda()\n",
    "\n",
    "    def _call(self, prompt, history = [],stop = None):\n",
    "        response, _ = self.model.chat(\n",
    "                    self.tokenizer, prompt,\n",
    "                    history=history[-self.history_len:] if self.history_len > 0 else [],\n",
    "                    max_length=self.max_token, temperature=self.temperature,\n",
    "                    top_p=self.top_p)\n",
    "        return response\n",
    "    \n",
    "modelpath = \"/root/chatglm2-6b/\"\n",
    "chatglm = GLM()\n",
    "chatglm.load_model(model_name_or_path = modelpath)"
   ]
  },
  {
   "cell_type": "code",
   "execution_count": 14,
   "id": "58352ed4-48c3-47fa-a20a-5d34a1f4c8b5",
   "metadata": {
    "tags": []
   },
   "outputs": [],
   "source": [
    "def pipeline(query, df, model, text_splitter, company, year):   # for q1\n",
    "    question = query['question']\n",
    "    question = question.replace(company, '')\n",
    "    question = question.replace(year+'年', '')\n",
    "    if 'chapter' in df.columns and df['chapter'].notnull().all():\n",
    "        keys = df['chapter'].unique()\n",
    "        similarity = []\n",
    "        vector_b = np.array(embeddings.embed_query(question))\n",
    "        for i in keys:\n",
    "            vector_a = np.array(embeddings.embed_query(i))\n",
    "            s = cosine_similarity(vector_a.reshape(1, -1), vector_b.reshape(1, -1))[0][0]\n",
    "            similarity.append(s)\n",
    "        # max_value = max(similarity)\n",
    "        # max_index = similarity.index(max_value)\n",
    "        # key = keys[max_index]\n",
    "        sorted_indices = sorted(range(len(similarity)), key=lambda i: similarity[i], reverse=True)\n",
    "        top_indices = sorted_indices[:int(len(similarity) / 2)]\n",
    "        content = ''\n",
    "        for key in top_indices:\n",
    "            content.join(df.loc[df.chapter == key, 'inside'])\n",
    "        content = [content]\n",
    "    else:\n",
    "        content = [''.join(df.loc[:, 'inside'])]\n",
    "    texts = text_splitter.create_documents([''.join(df.loc[:, 'inside'])])\n",
    "    vector_store = FAISS.from_documents(texts, embeddings)\n",
    "    context = vector_store.similarity_search_with_score(question, k=3)\n",
    "    prompt_template = \"\"\"根据上下文回答问题，\n",
    "                上下文:{context}\n",
    "                问题:{query}\"\"\"\n",
    "    prompt = PromptTemplate.from_template(prompt_template)\n",
    "    chain = LLMChain(llm=model, prompt=prompt)\n",
    "    response_0 = chain({'context':context[0][0], 'query':question})\n",
    "    # response_1 = chain({'context':context[0][1], 'query':question})\n",
    "    # response_2 = chain({'context':context[0][2], 'query':question})\n",
    "    query['answer'] = response_0['text']\n",
    "    return query"
   ]
  },
  {
   "cell_type": "code",
   "execution_count": 15,
   "id": "1f5aa713-fcda-44b9-85b7-58eb724a2832",
   "metadata": {
    "collapsed": true,
    "jupyter": {
     "outputs_hidden": true
    },
    "tags": []
   },
   "outputs": [
    {
     "data": {
      "text/plain": [
       "[{'id': 3, 'question': '研发费用对公司的技术创新和竞争优势有何影响？'},\n",
       " {'id': 19, 'question': '合并财务报表的编制方法有哪些？'},\n",
       " {'id': 54, 'question': '什么是存货周转率？'},\n",
       " {'id': 106, 'question': '重要会计政策和会计估计的变更是什么？'},\n",
       " {'id': 114, 'question': '什么是营运资本？'},\n",
       " {'id': 125, 'question': '财务杠杆和经营杠杆有什么区别？'},\n",
       " {'id': 133, 'question': '合营安排的分类及共同经营的会计处理方法是什么？'},\n",
       " {'id': 141, 'question': '资本公积金和盈余公积金对公司的股东权益和财务灵活性有何影响？'},\n",
       " {'id': 180, 'question': '公允价值变动收益对公司财务状况的影响如何衡量？'},\n",
       " {'id': 181, 'question': '如何解释财务报表中的“递延所得税资产”和“递延所得税负债”？'},\n",
       " {'id': 196, 'question': '公允价值变动收益如何反映公司资产价值的变化和风险暴露？'},\n",
       " {'id': 213, 'question': '营业外收支净额对公司的综合收益和盈利能力有何影响？'},\n",
       " {'id': 273, 'question': '应收账款的逾期和坏账如何影响公司的财务状况？'},\n",
       " {'id': 276, 'question': '预付款项的管理对公司的资金利用效率和供应商关系有何影响？'},\n",
       " {'id': 285, 'question': '固定资产的定义是什么？'},\n",
       " {'id': 298, 'question': '什么是流动负债？'},\n",
       " {'id': 336, 'question': '什么是成本费用法？它在会计中的应用是什么？'},\n",
       " {'id': 343, 'question': '什么是财务风险？'},\n",
       " {'id': 352, 'question': '什么是资产收益率？'},\n",
       " {'id': 354, 'question': '长期借款和短期借款的利息支付如何影响公司的财务状况和债务风险？'},\n",
       " {'id': 369, 'question': '外币业务和外币报表折算是什么意思？'},\n",
       " {'id': 404, 'question': '什么是存货周转天数？'},\n",
       " {'id': 434, 'question': '其他应收款的分类和计提规则如何影响公司的资金回收和风险控制？'},\n",
       " {'id': 435, 'question': '负债合计与资本结构之间的关系如何影响公司的偿债能力和财务稳定性？'},\n",
       " {'id': 460, 'question': '什么是固定资产？'},\n",
       " {'id': 476, 'question': '研发费用对公司的创新能力和技术优势有何影响？'},\n",
       " {'id': 499, 'question': '如何确定现金及现金等价物？'},\n",
       " {'id': 500, 'question': '合同资产是指什么？'},\n",
       " {'id': 508, 'question': '所得税费用的计算方法是什么？'},\n",
       " {'id': 514, 'question': '投资性房地产是什么意思？'},\n",
       " {'id': 547, 'question': '什么是资本支出？'},\n",
       " {'id': 556, 'question': '应收账款的坏账和逾期对公司的现金流和收款周期有何影响？'},\n",
       " {'id': 575, 'question': '什么是油气资产？'},\n",
       " {'id': 595, 'question': '什么是筹资活动产生的现金流量？'},\n",
       " {'id': 603, 'question': '在建工程是指什么？'},\n",
       " {'id': 604, 'question': '持有待售资产是什么意思？'},\n",
       " {'id': 614, 'question': '什么是营业外支出？'},\n",
       " {'id': 631, 'question': '长期借款和短期借款的利息支付如何影响公司的财务状况和债务风险？'},\n",
       " {'id': 659, 'question': '什么是流动资产？'},\n",
       " {'id': 713, 'question': '什么是现金流量覆盖率？'},\n",
       " {'id': 715, 'question': '收入是什么意思？'},\n",
       " {'id': 728, 'question': '什么是归属于母公司所有者权益？'},\n",
       " {'id': 729, 'question': '在财务报表中，“应收账款”是什么意思？如何理解它的影响？'},\n",
       " {'id': 745, 'question': '为什么货币资金对公司的经营活动至关重要？'},\n",
       " {'id': 769, 'question': '什么是净资产回报率？'},\n",
       " {'id': 790, 'question': '什么是总资产周转率？'},\n",
       " {'id': 834, 'question': '借款费用是什么意思？'},\n",
       " {'id': 863, 'question': '什么是资产周转率？'},\n",
       " {'id': 913, 'question': '无形资产是指什么？'},\n",
       " {'id': 921, 'question': '什么是营业周期？'},\n",
       " {'id': 924, 'question': '合营安排的分类及共同经营会计处理方法是什么？'},\n",
       " {'id': 951, 'question': '什么是应收票据？'},\n",
       " {'id': 972, 'question': '营业外收入和营业外支出对公司盈利能力和风险承受能力的影响如何评估？'},\n",
       " {'id': 974, 'question': '什么是销售收入？'},\n",
       " {'id': 988, 'question': '优先股、永续债等其他金融工具是什么？'},\n",
       " {'id': 1016, 'question': '什么是合同资产？'},\n",
       " {'id': 1032, 'question': '什么是少数股东权益？'},\n",
       " {'id': 1047, 'question': '应收票据的到期和违约对公司的现金流和信用风险有何影响？'},\n",
       " {'id': 1072, 'question': '什么是经营性现金流量净额？'},\n",
       " {'id': 1073, 'question': '什么是现金比率？'},\n",
       " {'id': 1130, 'question': '什么是资本公积？'},\n",
       " {'id': 1145, 'question': '为什么净利润与现金流量不一致？'},\n",
       " {'id': 1146, 'question': '什么是债权投资？'},\n",
       " {'id': 1169, 'question': '合同成本是指什么？'},\n",
       " {'id': 1171, 'question': '应收票据的管理对公司的流动性和信用风险有何影响？'},\n",
       " {'id': 1199, 'question': '什么是负债合计？'},\n",
       " {'id': 1221, 'question': '应付职工薪酬的计提和支付对公司的财务状况和员工满意度有何影响？'},\n",
       " {'id': 1228, 'question': '什么是财务费用？'},\n",
       " {'id': 1238, 'question': '租赁负债的定义是什么？'},\n",
       " {'id': 1247, 'question': '什么是负债率？'},\n",
       " {'id': 1248, 'question': '什么是每股收益？'},\n",
       " {'id': 1258, 'question': '什么是长期应收款？'},\n",
       " {'id': 1260, 'question': '什么是收入？'},\n",
       " {'id': 1285, 'question': '什么是无形资产？'},\n",
       " {'id': 1291, 'question': '企业会计准则的定义是什么？'},\n",
       " {'id': 1301, 'question': '什么是营业外收支净额？'},\n",
       " {'id': 1334, 'question': '存货周转率的变动如何反映公司的供应链效率和库存管理水平的改善？'},\n",
       " {'id': 1356, 'question': '同一控制下和非同一控制下企业合并的会计处理方法是什么？'},\n",
       " {'id': 1357, 'question': '什么是归属于母公司所有者的综合收益总额？'},\n",
       " {'id': 1372, 'question': '什么是会计期间？'},\n",
       " {'id': 1395, 'question': '什么是预付款项？'},\n",
       " {'id': 1400, 'question': '递延所得税资产/递延所得税负债是什么？'},\n",
       " {'id': 1410, 'question': '什么是应收款项融资？'},\n",
       " {'id': 1426, 'question': '什么是营业税金及附加？'},\n",
       " {'id': 1474, 'question': '什么是金融工具？'},\n",
       " {'id': 1493, 'question': '什么是股份支付？'},\n",
       " {'id': 1519, 'question': '什么是租赁？'},\n",
       " {'id': 1574, 'question': '什么是资本预算？如何进行资本预算决策？'},\n",
       " {'id': 1576, 'question': '存货周转率的变动如何反映公司的供应链效率和库存管理水平？'},\n",
       " {'id': 1582, 'question': '什么是销售净利率？'},\n",
       " {'id': 1594, 'question': '综合收益总额与归属于母公司所有者的综合收益总额之间的关系是什么？'},\n",
       " {'id': 1604, 'question': '什么是应付账款周转天数？'},\n",
       " {'id': 1606, 'question': '什么是应付职工薪酬？'},\n",
       " {'id': 1608, 'question': '重要会计政策和会计估计的变更是什么？'},\n",
       " {'id': 1613, 'question': '如何分析营业收入的变动趋势？'},\n",
       " {'id': 1637, 'question': '什么是应付账款周转率？'},\n",
       " {'id': 1648, 'question': '固定资产的折旧政策如何影响公司的财务状况和税务成本？'},\n",
       " {'id': 1671, 'question': '什么是生物资产？'},\n",
       " {'id': 1678, 'question': '资产负债总额和净资产之间的关系是什么？'},\n",
       " {'id': 1693, 'question': '长期资产减值的含义是什么？'},\n",
       " {'id': 1696, 'question': '什么是现金流量表？'},\n",
       " {'id': 1701, 'question': '如何解释财务报表中的“商誉”？'},\n",
       " {'id': 1708, 'question': '净利润率的变动如何反映公司的盈利能力和经营效率的改善？'},\n",
       " {'id': 1736, 'question': '同一控制下和非同一控制下企业合并采用什么样的会计处理方法？'},\n",
       " {'id': 1743, 'question': '如何评估资本回报率的合理水平？'},\n",
       " {'id': 1768, 'question': '管理费用对公司的成本控制和资源配置有何影响？'},\n",
       " {'id': 1787, 'question': '其他债权投资是指什么？'},\n",
       " {'id': 1797, 'question': '存货的管理对公司的运营效率和盈利能力有何影响？'},\n",
       " {'id': 1813, 'question': '什么是速动比率？'},\n",
       " {'id': 1819, 'question': '什么是资本回报率？'},\n",
       " {'id': 1825, 'question': '资本结构对企业有什么影响？'},\n",
       " {'id': 1845, 'question': '销售费用的变动如何影响公司的销售额和市场份额？'},\n",
       " {'id': 1862, 'question': '什么是长期借款？'},\n",
       " {'id': 1896, 'question': '营业外收入和营业外支出对公司盈利能力的影响如何评估？'},\n",
       " {'id': 1922, 'question': '非经常性损益对公司的盈利能力和财务状况的影响如何评估？'},\n",
       " {'id': 1952, 'question': '应付职工薪酬的计提和支付对公司的现金流和员工满意度有何影响？'},\n",
       " {'id': 1967, 'question': '所得税费用的变动如何影响公司的税务成本和净利润？'},\n",
       " {'id': 1973, 'question': '什么是应收票据？'},\n",
       " {'id': 1993, 'question': '什么是借款费用？'},\n",
       " {'id': 2009, 'question': '什么是长期资产减值？'},\n",
       " {'id': 2057, 'question': '什么是利润表？'},\n",
       " {'id': 2063, 'question': '什么是股东权益？'},\n",
       " {'id': 2076, 'question': '长期股权投资是指什么？'},\n",
       " {'id': 2094, 'question': '资本公积金和盈余公积金对公司的股东权益和财务灵活性有何影响？'},\n",
       " {'id': 2099, 'question': '应收账款的坏账和逾期对公司的现金流和收款周期有何影响？'},\n",
       " {'id': 2115, 'question': '什么是归属于少数股东的综合收益总额？'},\n",
       " {'id': 2125, 'question': '什么是预收款项？'},\n",
       " {'id': 2129, 'question': '管理费用对公司的经营效率和盈利能力有何影响？'},\n",
       " {'id': 2132, 'question': '什么是实收资本（或股本）？'},\n",
       " {'id': 2135, 'question': '应付票据和应付账款的管理对公司的现金流和供应商关系有何影响？'},\n",
       " {'id': 2183, 'question': '财务报表分析中，如何计算净利润率？'},\n",
       " {'id': 2200, 'question': '所得税费用的计算方法和影响因素有哪些？'},\n",
       " {'id': 2207, 'question': '什么是财务指标？'},\n",
       " {'id': 2208, 'question': '什么是固定资产周转率？'},\n",
       " {'id': 2277, 'question': '什么是自由现金流量？'},\n",
       " {'id': 2278, 'question': '什么是销售费用？'},\n",
       " {'id': 2282, 'question': '使用权资产的定义是什么？'},\n",
       " {'id': 2322, 'question': '无形资产的计量和摊销方法对公司的资产质量和盈利能力有何影响？'},\n",
       " {'id': 2345, 'question': '公允价值变动收益如何反映公司资产价值的变化和风险敞口？'},\n",
       " {'id': 2363, 'question': '什么是非流动负债？'},\n",
       " {'id': 2371, 'question': '什么是记账本位币？'},\n",
       " {'id': 2377, 'question': '什么是资本成本？如何计算？'},\n",
       " {'id': 2380, 'question': '什么是外币业务和外币报表折算？'},\n",
       " {'id': 2394, 'question': '为什么资产减值损失会导致财务报表中的利润下降？'},\n",
       " {'id': 2413, 'question': '无形资产的计量和摊销对公司的价值创造和盈利能力有何影响？'},\n",
       " {'id': 2437, 'question': '什么是经营活动产生的现金流量？'},\n",
       " {'id': 2458, 'question': '应收款项融资是什么意思？'},\n",
       " {'id': 2461, 'question': '什么是市盈率？如何计算？'},\n",
       " {'id': 2467, 'question': '应交税费的管理对公司的财务状况和税务合规性有何影响？'},\n",
       " {'id': 2470, 'question': '什么是存货？'},\n",
       " {'id': 2475, 'question': '什么是综合收益总额？'},\n",
       " {'id': 2478, 'question': '其他应收款的分类和计提规则如何影响公司的资金回收和风险控制？'},\n",
       " {'id': 2488, 'question': '什么是应收账款？'},\n",
       " {'id': 2498, 'question': '什么是营业收入？'},\n",
       " {'id': 2499, 'question': '什么是合同负债？'},\n",
       " {'id': 2507, 'question': '应交税费的管理对公司的税务合规性和财务稳定性有何影响？'},\n",
       " {'id': 2532, 'question': '什么是研发费用？'},\n",
       " {'id': 2544, 'question': '什么是应付债券？'},\n",
       " {'id': 2545, 'question': '企业会计准则的定义是什么？'},\n",
       " {'id': 2547, 'question': '什么是预计负债？'},\n",
       " {'id': 2562, 'question': '为什么财务费用可以是负的？'},\n",
       " {'id': 2581, 'question': '什么是投资活动产生的现金流量？'},\n",
       " {'id': 2590, 'question': '其他重要的会计政策和会计估计是什么？'},\n",
       " {'id': 2592, 'question': '固定资产的折旧政策和计提方法如何影响公司的财务状况和盈利能力？'},\n",
       " {'id': 2618, 'question': '财务费用的变动如何影响公司的财务成本和债务风险？'},\n",
       " {'id': 2635, 'question': '负债率高和低分别代表什么？'},\n",
       " {'id': 2651, 'question': '应收账款是指什么？'},\n",
       " {'id': 2683, 'question': '什么是负债收益率？'},\n",
       " {'id': 2684, 'question': '长期应收款的定义是什么？'},\n",
       " {'id': 2694, 'question': '什么是所得税费用？'},\n",
       " {'id': 2702, 'question': '财务费用的变动如何影响公司的财务成本和盈利能力？'},\n",
       " {'id': 2704, 'question': '什么是流动比率？'},\n",
       " {'id': 2707, 'question': '其他重要的会计政策和会计估计是什么？'},\n",
       " {'id': 2767, 'question': '负债合计与资本结构之间的关系是什么？'},\n",
       " {'id': 2810, 'question': '预付款项的管理对公司的资金利用效率和供应链协调有何影响？'},\n",
       " {'id': 2831, 'question': '什么是债务融资？债务融资的优势和劣势有哪些？'},\n",
       " {'id': 2840, 'question': '什么是盈余公积？'},\n",
       " {'id': 2886, 'question': '综合收益总额与归属于母公司所有者的综合收益总额之间的关系是什么？'},\n",
       " {'id': 2897, 'question': '什么是非经常性损益？'},\n",
       " {'id': 2930, 'question': '什么是资产周转率？如何计算资产周转率？'},\n",
       " {'id': 2931, 'question': '金融工具是指什么？'},\n",
       " {'id': 2937, 'question': '合并财务报表的编制方法是什么？'},\n",
       " {'id': 2954, 'question': '什么是应付股利？'},\n",
       " {'id': 2986, 'question': '什么是未分配利润？'},\n",
       " {'id': 2995, 'question': '什么是非流动资产？'},\n",
       " {'id': 3004, 'question': '什么是毛利润？'},\n",
       " {'id': 3013, 'question': '企业的盈利能力和偿债能力之间有何关系？'},\n",
       " {'id': 3014, 'question': '什么是固定资产？'},\n",
       " {'id': 3047, 'question': '什么是租赁负债？'},\n",
       " {'id': 3069, 'question': '营业收入的增长率如何衡量公司的市场竞争力和发展潜力？'},\n",
       " {'id': 3100, 'question': '什么是资产负债表？'},\n",
       " {'id': 3129, 'question': '什么是营业外收入？'},\n",
       " {'id': 3152, 'question': '什么是货币资金？'},\n",
       " {'id': 3188, 'question': '企业如何确定资产减值损失？'},\n",
       " {'id': 3203, 'question': '无形资产的计量和摊销方法对公司的资产质量和盈利能力有何影响？'},\n",
       " {'id': 3214, 'question': '什么是递延所得税资产/递延所得税负债？'},\n",
       " {'id': 3248, 'question': '现金流量表包括哪些主要项目？'},\n",
       " {'id': 3250, 'question': '什么是每股净资产？'},\n",
       " {'id': 3260, 'question': '应收票据的定义是什么？'},\n",
       " {'id': 3294, 'question': '什么是资本收益率？'},\n",
       " {'id': 3303, 'question': '什么是长期股权投资？'},\n",
       " {'id': 3315, 'question': '长期股权投资的投资回报和价值变动如何影响公司的资本利用和盈利能力？'},\n",
       " {'id': 3350, 'question': '什么是其他应收款？'},\n",
       " {'id': 3383, 'question': '什么是非经常性损益？如何评估其对公司财务状况的影响？'},\n",
       " {'id': 3388, 'question': '负债合计与资本结构之间的关系如何影响公司的偿债能力和财务稳定性？'},\n",
       " {'id': 3399, 'question': '职工薪酬是什么意思？'},\n",
       " {'id': 3407, 'question': '营业外收支净额对公司的综合收益和盈利能力有何影响？'},\n",
       " {'id': 3411, 'question': '什么是资产减值损失？'},\n",
       " {'id': 3428, 'question': '什么是管理费用？'},\n",
       " {'id': 3440, 'question': '应付职工薪酬的计提和支付对公司的现金流和员工满意度有何影响？'},\n",
       " {'id': 3456, 'question': '什么是政府补助？'},\n",
       " {'id': 3462, 'question': '资产负债表的作用是什么？'},\n",
       " {'id': 3487, 'question': '什么是资产负债率？'},\n",
       " {'id': 3506, 'question': '应付票据和应付账款的管理对公司的现金流和供应商关系有何影响？'},\n",
       " {'id': 3515, 'question': '什么是股东权益回报率？如何计算股东权益回报率？'},\n",
       " {'id': 3532, 'question': '什么是每股经营现金流量？'},\n",
       " {'id': 3545, 'question': '什么是无形资产？'},\n",
       " {'id': 3588, 'question': '其他应收款的分类和计提原则是什么？'},\n",
       " {'id': 3591, 'question': '净利润率的变动如何反映公司的盈利能力和经营效率？'},\n",
       " {'id': 3641, 'question': '租赁是指什么？'},\n",
       " {'id': 3649, 'question': '货币资金管理对公司的流动性风险和资金利用效率有何影响？'},\n",
       " {'id': 3674, 'question': '什么是应交税费？'},\n",
       " {'id': 3678, 'question': '什么是长期股权投资？'},\n",
       " {'id': 3709, 'question': '什么是在建工程？'},\n",
       " {'id': 3712, 'question': '什么是总资产？'},\n",
       " {'id': 3713, 'question': '如何确定现金及现金等价物？'},\n",
       " {'id': 3770, 'question': '什么是职工薪酬？'},\n",
       " {'id': 3774, 'question': '什么是净资产（或股东权益）？'},\n",
       " {'id': 3795, 'question': '什么是应收账款周转率？'},\n",
       " {'id': 3803, 'question': '营业外收入和营业外支出的变动如何影响公司的利润稳定性和风险承受能力？'},\n",
       " {'id': 3823, 'question': '资本支出对公司的技术更新和资产配置的影响如何评估？'},\n",
       " {'id': 3835, 'question': '什么是其他债权投资？'},\n",
       " {'id': 3841, 'question': '什么是公允价值变动收益？'},\n",
       " {'id': 3851, 'question': '资本支出的决策如何影响公司的财务结构和盈利能力？'},\n",
       " {'id': 3853, 'question': '什么是扣除非经常性损益后的净利润？'},\n",
       " {'id': 3914, 'question': '什么是持有待售资产？'},\n",
       " {'id': 3945, 'question': '什么是应收账款周转天数？'},\n",
       " {'id': 3972, 'question': '什么是盈利能力？'},\n",
       " {'id': 3998, 'question': '货币资金管理对公司的流动性风险和资金利用效率有何影响？'},\n",
       " {'id': 4048, 'question': '什么是偿债能力？'},\n",
       " {'id': 4050, 'question': '非经常性损益对公司财务状况和盈利能力的影响如何评估？'},\n",
       " {'id': 4064, 'question': '销售费用的变动如何影响公司的销售额和营业利润？'},\n",
       " {'id': 4066, 'question': '如何计算企业的盈利能力？'},\n",
       " {'id': 4091, 'question': '什么是存货？'},\n",
       " {'id': 4107, 'question': '什么是负债？'},\n",
       " {'id': 4118, 'question': '企业价值是如何计算的？'},\n",
       " {'id': 4123, 'question': '什么是合同成本？'},\n",
       " {'id': 4161, 'question': '长期股权投资的投资回报和价值变动如何影响公司的资本利用和盈利能力？'},\n",
       " {'id': 4166, 'question': '什么是应收账款？'},\n",
       " {'id': 4177, 'question': '合同负债是指什么？'},\n",
       " {'id': 4185, 'question': '如何计算企业的偿债能力？'},\n",
       " {'id': 4189, 'question': '什么是财务杠杆？'},\n",
       " {'id': 4191, 'question': '其他应收款的定义是什么？'},\n",
       " {'id': 4256, 'question': '什么是财务报表？'},\n",
       " {'id': 4266, 'question': '资产减值损失如何影响公司的盈利能力和财务状况？'},\n",
       " {'id': 4286, 'question': '资产减值损失如何反映公司的风险敞口和资产价值的变化？'},\n",
       " {'id': 4305, 'question': '应交税费的管理对公司的税务合规性和财务稳定性有何影响？'},\n",
       " {'id': 4341, 'question': '什么是速动比率？'},\n",
       " {'id': 4364, 'question': '资产负债总额和净资产之间的关系如何反映公司的财务稳定性和杠杆效应？'},\n",
       " {'id': 4387, 'question': '什么是应付账款？'},\n",
       " {'id': 4391, 'question': '什么是净利润率？'},\n",
       " {'id': 4406, 'question': '什么是长期待摊费用？'},\n",
       " {'id': 4414, 'question': '存货的定义是什么？'},\n",
       " {'id': 4430, 'question': '为什么销售额可以是负的？'},\n",
       " {'id': 4431, 'question': '现金流量表与利润表有什么区别？'},\n",
       " {'id': 4440, 'question': '什么是现金流量的净额？'},\n",
       " {'id': 4478, 'question': '什么是投资性房地产？'},\n",
       " {'id': 4486, 'question': '长期待摊费用是什么意思？'},\n",
       " {'id': 4493, 'question': '什么是优先股、永续债等其他金融工具？'},\n",
       " {'id': 4528, 'question': '预付款项的管理对公司的资金利用效率和供应链协调有何影响？'},\n",
       " {'id': 4541, 'question': '什么是应付票据？'},\n",
       " {'id': 4570, 'question': '资本回报率的计算方法和影响因素有哪些？'},\n",
       " {'id': 4586, 'question': '会计期间如何定义？'},\n",
       " {'id': 4594, 'question': '什么是使用权资产？'},\n",
       " {'id': 4609, 'question': '研发费用对公司财务状况和经营绩效有什么影响？'},\n",
       " {'id': 4619, 'question': '流动资产金额过高和过低分别代表什么？'},\n",
       " {'id': 4654, 'question': '长期股权投资的价值变动如何影响公司的净资产和盈利能力？'},\n",
       " {'id': 4704, 'question': '什么是负债和所有者权益总计？'},\n",
       " {'id': 4759, 'question': '什么是净利润？'},\n",
       " {'id': 4780, 'question': '资本支出对公司的技术更新和资本配置的影响如何评估？'},\n",
       " {'id': 4793, 'question': '营业收入的增长率如何反映公司的市场竞争力和增长潜力？'},\n",
       " {'id': 4797, 'question': '应收票据的到期和违约对公司的现金流和信用风险有何影响？'},\n",
       " {'id': 4804, 'question': '固定资产的折旧政策如何影响公司的财务状况和税务成本？'},\n",
       " {'id': 4817, 'question': '什么是应付利息？'},\n",
       " {'id': 4825, 'question': '资本回报率和投资回报率有何区别？'},\n",
       " {'id': 4835, 'question': '记账本位币是什么意思？'},\n",
       " {'id': 4841, 'question': '什么是营业成本？'},\n",
       " {'id': 4897, 'question': '资本回报率的计算公式是什么？'},\n",
       " {'id': 4923, 'question': '油气资产是什么意思？'},\n",
       " {'id': 4933, 'question': '政府补助是什么意思？'},\n",
       " {'id': 4934, 'question': '财务报表中的“其他综合收益”是指什么？'},\n",
       " {'id': 4935, 'question': '应付票据和应付账款的管理对公司的流动性和信用风险有何影响？'},\n",
       " {'id': 4947, 'question': '债权投资的定义是什么？'},\n",
       " {'id': 4949, 'question': '营业周期是指什么？'},\n",
       " {'id': 4955, 'question': '股份支付是什么意思？'},\n",
       " {'id': 4956, 'question': '什么是短期借款？'},\n",
       " {'id': 4958, 'question': '生物资产是指什么？'},\n",
       " {'id': 4978, 'question': '什么是其他应收款？'},\n",
       " {'id': 4993, 'question': '什么是净资产收益率？'},\n",
       " {'id': 4997, 'question': '预计负债是指什么？'}]"
      ]
     },
     "execution_count": 15,
     "metadata": {},
     "output_type": "execute_result"
    }
   ],
   "source": [
    "def split_questions(questions):\n",
    "    q1 = []\n",
    "    q2 = []\n",
    "    for q in questions:\n",
    "        if '年' in q['question']:\n",
    "            q1.append(q)\n",
    "        else:\n",
    "            q2.append(q)\n",
    "    return q1, q2\n",
    "\n",
    "q1, q2 = split_questions(test)\n",
    "q2"
   ]
  },
  {
   "cell_type": "code",
   "execution_count": 16,
   "id": "54a33e95-d1c1-44a0-85b9-f47ec90721ab",
   "metadata": {
    "tags": []
   },
   "outputs": [],
   "source": [
    "def process_q2(questions, model):\n",
    "    answers = []\n",
    "    for q in questions:\n",
    "        response = model(q['question'])\n",
    "        q['answer'] = response\n",
    "        answers.append(q)\n",
    "    return answers"
   ]
  },
  {
   "cell_type": "code",
   "execution_count": 45,
   "id": "2a285861-19de-4b25-82d0-074f191fa9fb",
   "metadata": {
    "tags": []
   },
   "outputs": [],
   "source": [
    "# outliers = []\n",
    "# 问题很大\n",
    "def process_q1(q1, files_names):\n",
    "    output = []\n",
    "    for f in files_names:\n",
    "        company = f.split('_')[2]\n",
    "        code = f.split('_')[4]\n",
    "        shortname = f.split('_')[6]\n",
    "        year = f.split('_')[8][:-1]\n",
    "\n",
    "        for q in q1:\n",
    "            if year in q['question']:\n",
    "                try:\n",
    "                    if shortname in q['question']:\n",
    "                        df = pd.read_csv(f, header=0)\n",
    "                        print(df)\n",
    "                        print(f)\n",
    "                        response = pipeline(q, df, chatglm, text_splitter, shortname, year)\n",
    "                        output.append(response)\n",
    "                    elif company in q['question']:\n",
    "                        df = pd.read_csv(f, header=0)\n",
    "                        print(df)\n",
    "                        response = pipeline(q, df, chatglm, text_splitter, company, year)\n",
    "                        output.append(response)\n",
    "                    else:\n",
    "                        pass     # 有问题\n",
    "                except Exception as e:\n",
    "                    print(e)\n",
    "                    # outliers.append(q)\n",
    "            else:\n",
    "                pass     # 有问题\n",
    "    return output"
   ]
  },
  {
   "cell_type": "code",
   "execution_count": 23,
   "id": "a44d00ff-e135-427a-bceb-0a3946fdd7cd",
   "metadata": {
    "tags": []
   },
   "outputs": [],
   "source": [
    "answer1 = process_q1(q1, files_names)"
   ]
  },
  {
   "cell_type": "code",
   "execution_count": null,
   "id": "c8218313-33cc-4703-9001-d45105026e55",
   "metadata": {
    "tags": []
   },
   "outputs": [],
   "source": [
    "answer2 = process_q2(q2, chatglm)"
   ]
  },
  {
   "cell_type": "code",
   "execution_count": 36,
   "id": "df87bc13-10e6-4cf8-b1d1-c9451e598b5b",
   "metadata": {
    "tags": []
   },
   "outputs": [
    {
     "data": {
      "text/plain": [
       "[{'id': 1437, 'question': '湖北共同药业股份有限公司2021年的营业收入增长率是多少？保留2位小数。'},\n",
       " {'id': 3542, 'question': '2021年华辰装备资产总计是多少元?'},\n",
       " {'id': 4371, 'question': '瑞达期货在2019年的投资收益占营业收入比率保留到小数点后两位是多少？'},\n",
       " {'id': 4691, 'question': '瑞达期货股份有限公司在2019年的利息收入是多少元？'},\n",
       " {'id': 1573, 'question': '请问，2021年蜀道装备的总资产增长率是多少?请保留2位小数。'},\n",
       " {'id': 1710, 'question': '2021年蜀道装备营业利润是多少元?'}]"
      ]
     },
     "execution_count": 36,
     "metadata": {},
     "output_type": "execute_result"
    }
   ],
   "source": [
    "outliers"
   ]
  },
  {
   "cell_type": "code",
   "execution_count": 48,
   "id": "229740ed-b591-4c3c-b0de-dd058182da62",
   "metadata": {
    "tags": []
   },
   "outputs": [],
   "source": [
    "outliers_answers = process_q2(outliers, chatglm)"
   ]
  },
  {
   "cell_type": "code",
   "execution_count": 49,
   "id": "689acce8-9ce2-4606-b894-dc9174cab011",
   "metadata": {
    "collapsed": true,
    "jupyter": {
     "outputs_hidden": true
    },
    "tags": []
   },
   "outputs": [
    {
     "data": {
      "text/plain": [
       "[{'id': 1437,\n",
       "  'question': '湖北共同药业股份有限公司2021年的营业收入增长率是多少？保留2位小数。',\n",
       "  'answer': '根据题目所给信息，我们需要计算湖北共同药业股份有限公司2021年的营业收入增长率。根据公式，增长率的计算公式为（增长额-增长前数）/增长前数×100%。\\n\\n题目中没有给出增长额和增长前的具体数值，但是题目给出了2020年和2021年的营业收入。因此，我们可以计算出增长额为2021年的营业收入减去2020年的营业收入，即：\\n\\n增长额 = 2021年营业收入 - 2020年营业收入\\n\\n接下来，我们需要计算增长前数，即2020年的营业收入。题目中没有给出具体的数值，因此我们可以将其视为一个未知数x。\\n\\n将上述信息代入公式中，可以得到：\\n\\n增长率 = （2021年营业收入 - x）/ x × 100%\\n\\n将题目中给出的增长率代入，可以得到：\\n\\n增长率 = （25.38 - x）/ x × 100%\\n\\n将上式中的x代入，可以得到：\\n\\n增长率 = （25.38 - 22.50）/ 22.50 × 100%\\n\\n计算可得，增长率为25.38%。\\n\\n最后，根据题目要求，需要保留两位小数。因此，最终答案为25.4%。'},\n",
       " {'id': 3542,\n",
       "  'question': '2021年华辰装备资产总计是多少元?',\n",
       "  'answer': '我无法提供2021年华辰装备资产总计的具体数值，因为我的训练时间截止到2021年，而且这类数据通常需要经过审计和统计才能得出。建议您查询华辰装备的官方网站或联系相关客服获取确切信息。'},\n",
       " {'id': 4371,\n",
       "  'question': '瑞达期货在2019年的投资收益占营业收入比率保留到小数点后两位是多少？',\n",
       "  'answer': '抱歉，瑞达期货在2019年的投资收益占营业收入比率数据不详。请提供更多信息或者查询其他相关信息，以便我为您提供帮助。'},\n",
       " {'id': 4691,\n",
       "  'question': '瑞达期货股份有限公司在2019年的利息收入是多少元？',\n",
       "  'answer': '根据《公司债券发行与交易管理办法》第四十七条，公司债券利息收入的计算公式为：利息收入=利息收入总额-当期应付债券利息-累计应付债券利息-应付债券到期本金累计利息。因此，瑞达期货股份有限公司在2019年的利息收入需要通过以上公式进行计算。但是，由于题目中没有提供2019年瑞达期货股份有限公司的财务报表，我们无法得出具体的利息收入金额。因此，本题无法回答。'},\n",
       " {'id': 1573,\n",
       "  'question': '请问，2021年蜀道装备的总资产增长率是多少?请保留2位小数。',\n",
       "  'answer': '抱歉，作为人工智能助手，我无法提供具体的资产增长率数据。资产增长率通常是一个公司财务报表中的指标，需要查阅相关财务数据才能得出。您可以查阅蜀道装备的财务报表来获取相关信息。'},\n",
       " {'id': 1710,\n",
       "  'question': '2021年蜀道装备营业利润是多少元?',\n",
       "  'answer': '我无法提供2021年蜀道装备的营业利润数据，因为我是一个人工智能助手，我的训练时间截止于2023年，无法获取实时数据。建议您查阅蜀道装备的官方财报或相关新闻报道，以获取最新的营业利润信息。'},\n",
       " {'id': 1437,\n",
       "  'question': '湖北共同药业股份有限公司2021年的营业收入增长率是多少？保留2位小数。',\n",
       "  'answer': '根据题目所给信息，我们需要计算湖北共同药业股份有限公司2021年的营业收入增长率。根据公式，增长率的计算公式为（增长额-增长前数）/增长前数×100%。\\n\\n题目中没有给出增长额和增长前的具体数值，但是题目给出了2020年和2021年的营业收入。因此，我们可以计算出增长额为2021年的营业收入减去2020年的营业收入，即：\\n\\n增长额 = 2021年营业收入 - 2020年营业收入\\n\\n接下来，我们需要计算增长前数，即2020年的营业收入。题目中没有给出具体的数值，因此我们可以将其视为一个未知数x。\\n\\n将上述信息代入公式中，可以得到：\\n\\n增长率 = （2021年营业收入 - x）/ x × 100%\\n\\n将题目中给出的增长率代入，可以得到：\\n\\n增长率 = （25.38 - x）/ x × 100%\\n\\n将上式中的x代入，可以得到：\\n\\n增长率 = （25.38 - 22.50）/ 22.50 × 100%\\n\\n计算可得，增长率为25.38%。\\n\\n最后，根据题目要求，需要保留两位小数。因此，最终答案为25.4%。'}]"
      ]
     },
     "execution_count": 49,
     "metadata": {},
     "output_type": "execute_result"
    }
   ],
   "source": [
    "outliers_answers"
   ]
  },
  {
   "cell_type": "code",
   "execution_count": 47,
   "id": "7347de8d-2ca5-47ce-9447-eb33f7da3669",
   "metadata": {
    "tags": []
   },
   "outputs": [
    {
     "name": "stdout",
     "output_type": "stream",
     "text": [
      "Empty DataFrame\n",
      "Columns: [type, inside, company, code, shortname, year]\n",
      "Index: []\n",
      "/root/autodl-tmp/CSV/2022-04-22__华辰精密装备昆山股份有限公司__300809__华辰装备__2021年__年度报告.csv\n",
      "list index out of range\n"
     ]
    },
    {
     "data": {
      "text/plain": [
       "[]"
      ]
     },
     "execution_count": 47,
     "metadata": {},
     "output_type": "execute_result"
    }
   ],
   "source": [
    "process_q1([outliers[1]], files_names)"
   ]
  },
  {
   "cell_type": "code",
   "execution_count": 96,
   "id": "b2c9187a-b818-4ece-b363-40ed6834d635",
   "metadata": {
    "tags": []
   },
   "outputs": [],
   "source": [
    "answer = answer1 + answer2 + outliers_answers\n",
    "sorted_answer = sorted(answer, key=lambda x: x['id'])"
   ]
  },
  {
   "cell_type": "code",
   "execution_count": 97,
   "id": "b5cf3b5a-d2aa-4c99-a884-39bee33da90a",
   "metadata": {
    "tags": []
   },
   "outputs": [],
   "source": [
    "unique_elements = {}\n",
    "for item in sorted_answer:\n",
    "    id_value = item[\"id\"]\n",
    "    if id_value not in unique_elements:\n",
    "        unique_elements[id_value] = item\n",
    "filtered_answer = list(unique_elements.values())"
   ]
  },
  {
   "cell_type": "code",
   "execution_count": 90,
   "id": "79336533-3884-4587-bcaa-18582f548bc6",
   "metadata": {
    "tags": []
   },
   "outputs": [],
   "source": [
    "l1 = []\n",
    "l2 = []\n",
    "l3 = []\n",
    "\n",
    "for i in range(len(answer1)):\n",
    "    l1.append(answer1[i]['id'])\n",
    "for i in range(len(answer2)):\n",
    "    l2.append(answer2[i]['id'])\n",
    "for i in range(len(outliers_answers)):\n",
    "    l3.append(outliers_answers[i]['id'])"
   ]
  },
  {
   "cell_type": "code",
   "execution_count": 98,
   "id": "8f879c47-9968-4e34-9257-c4c778a64e39",
   "metadata": {
    "tags": []
   },
   "outputs": [],
   "source": [
    "l_ = []\n",
    "for i in range(len(filtered_answer)):\n",
    "    l_.append(filtered_answer[i]['id'])"
   ]
  },
  {
   "cell_type": "code",
   "execution_count": 101,
   "id": "48e51aad-cd39-4f76-85e0-4c4c2103834c",
   "metadata": {
    "tags": []
   },
   "outputs": [],
   "source": [
    "unique = list(set([i for i in range(len(test))]) - set(l_))\n",
    "outliers_answers_ = process_q2([test[i] for i in unique], chatglm)"
   ]
  },
  {
   "cell_type": "code",
   "execution_count": 103,
   "id": "792ffca3-27e5-4c3e-b877-f3b8ae2ad0ec",
   "metadata": {
    "tags": []
   },
   "outputs": [
    {
     "data": {
      "text/plain": [
       "5000"
      ]
     },
     "execution_count": 103,
     "metadata": {},
     "output_type": "execute_result"
    }
   ],
   "source": [
    "final_answer = filtered_answer + outliers_answers_\n",
    "final_answer = sorted(final_answer, key=lambda x: x['id'])\n",
    "len(final_answer)"
   ]
  },
  {
   "cell_type": "code",
   "execution_count": 105,
   "id": "b35d7cb3-3224-4751-ab50-1ae9756922c3",
   "metadata": {
    "tags": []
   },
   "outputs": [],
   "source": [
    "output_file_path = 'csl_result.json'\n",
    "with open(output_file_path, 'w', encoding='utf-8') as json_file:\n",
    "    # json.dump(sorted_answer, json_file, ensure_ascii=False)\n",
    "    for i in final_answer:\n",
    "        x = json.dumps(i, ensure_ascii=False)\n",
    "        json_file.write(x + '\\n')"
   ]
  },
  {
   "cell_type": "code",
   "execution_count": 8,
   "id": "0ae676c1-a893-40c2-aeeb-ed0aaef7bd74",
   "metadata": {
    "tags": []
   },
   "outputs": [],
   "source": [
    "question_2019 = []\n",
    "question_2020 = []\n",
    "question_2021 = []\n",
    "for p in test:\n",
    "    question = p[\"question\"]\n",
    "    if \"2019\" in question:\n",
    "        question_2019.append(question)\n",
    "    if \"2020\" in question:\n",
    "        question_2020.append(question)\n",
    "    if \"2021\" in question:\n",
    "        question_2021.append(question)"
   ]
  }
 ],
 "metadata": {
  "kernelspec": {
   "display_name": "Python 3 (ipykernel)",
   "language": "python",
   "name": "python3"
  },
  "language_info": {
   "codemirror_mode": {
    "name": "ipython",
    "version": 3
   },
   "file_extension": ".py",
   "mimetype": "text/x-python",
   "name": "python",
   "nbconvert_exporter": "python",
   "pygments_lexer": "ipython3",
   "version": "3.8.10"
  }
 },
 "nbformat": 4,
 "nbformat_minor": 5
}
